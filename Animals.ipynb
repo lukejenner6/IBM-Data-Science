{
 "cells": [
  {
   "cell_type": "markdown",
   "id": "7799711b-81c0-439d-9585-abd035095068",
   "metadata": {
    "tags": []
   },
   "source": [
    "# My Jupyter Notebook on IBM Watson Studio"
   ]
  },
  {
   "cell_type": "markdown",
   "id": "cc76574f-df1a-4218-8b49-9a23d793513a",
   "metadata": {
    "tags": []
   },
   "source": [
    "**Luke Jenner**\n",
    "<br>Psychological Research Methods and Data Science Student"
   ]
  },
  {
   "cell_type": "markdown",
   "id": "217c4c6e-d99f-461f-a935-a8cb80da3e33",
   "metadata": {},
   "source": [
    "*I am interested in data science, because I love carrying out quantitative research and using statistics to discover quantify real things that are affecting the world. Coding is also like playing a video game, it is really rewarding when you finally complete a coding puzzle*\n"
   ]
  },
  {
   "cell_type": "markdown",
   "id": "22458668-2f1d-499c-8f4d-6ead9dd5f474",
   "metadata": {},
   "source": [
    "This code squares the number 5, to get the output 25."
   ]
  },
  {
   "cell_type": "code",
   "execution_count": 2,
   "id": "563ead5e-8f93-471f-a2ec-564a78f7ff84",
   "metadata": {},
   "outputs": [
    {
     "data": {
      "text/plain": [
       "25"
      ]
     },
     "execution_count": 2,
     "metadata": {},
     "output_type": "execute_result"
    }
   ],
   "source": [
    "5**2"
   ]
  },
  {
   "cell_type": "markdown",
   "id": "20d08501-ec86-48f2-a28b-478c31c6ce6c",
   "metadata": {},
   "source": [
    "## Animals\n",
    "***** \n",
    "<br>[Click this link to find out about animals](https://a-z-animals.com/animals/) \n",
    "<br>These are my three favourite animals: \n",
    "* ~cat~\n",
    "![meow](https://i.guim.co.uk/img/media/26392d05302e02f7bf4eb143bb84c8097d09144b/446_167_3683_2210/master/3683.jpg?width=1200&height=1200&quality=85&auto=format&fit=crop&s=49ed3252c0b2ffb49cf8b508892e452d)\n",
    "* ~dog~\n",
    "![bark](https://kb.rspca.org.au/wp-content/uploads/2018/11/golder-retriever-puppy.jpeg)\n",
    "* squirrel \n",
    "![](https://i.guim.co.uk/img/media/4b94502a42e3cbbd3176ef0b86d0cd493cf2cc5b/0_57_4800_2882/master/4800.jpg?width=1200&height=900&quality=85&auto=format&fit=crop&s=73ee9ea283b724c322f99fe3f7fe1a5d)"
   ]
  }
 ],
 "metadata": {
  "kernelspec": {
   "display_name": "Python 3 (ipykernel)",
   "language": "python",
   "name": "python3"
  },
  "language_info": {
   "codemirror_mode": {
    "name": "ipython",
    "version": 3
   },
   "file_extension": ".py",
   "mimetype": "text/x-python",
   "name": "python",
   "nbconvert_exporter": "python",
   "pygments_lexer": "ipython3",
   "version": "3.9.7"
  }
 },
 "nbformat": 4,
 "nbformat_minor": 5
}
